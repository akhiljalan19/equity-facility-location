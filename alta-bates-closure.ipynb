{
 "cells": [
  {
   "cell_type": "markdown",
   "metadata": {},
   "source": [
    "# Analysis of Alta Bates Closure\n",
    "\n",
    "This notebook will perform some of the analysis used in the case study subsection on Alta Bates closure. "
   ]
  },
  {
   "cell_type": "markdown",
   "metadata": {},
   "source": [
    "## Imports and Setup\n",
    "\n",
    "### Import Packages"
   ]
  },
  {
   "cell_type": "code",
   "execution_count": 1,
   "metadata": {},
   "outputs": [],
   "source": [
    "import sys\n",
    "import os\n",
    "from scipy.io import loadmat\n",
    "import pandas as pd\n",
    "import numpy as np\n",
    "import matplotlib.pyplot as plt\n",
    "import matplotlib.cm as cm\n",
    "import seaborn as sns\n",
    "%matplotlib inline"
   ]
  },
  {
   "cell_type": "code",
   "execution_count": 2,
   "metadata": {},
   "outputs": [],
   "source": [
    "from matplotlib import colorbar\n",
    "from matplotlib.colors import Normalize"
   ]
  },
  {
   "cell_type": "code",
   "execution_count": 3,
   "metadata": {},
   "outputs": [],
   "source": [
    "plt.rcParams['figure.figsize'] = [20, 12]\n",
    "sns.set_style('whitegrid')\n",
    "plt.rcParams['font.size'] = 36\n",
    "plt.rcParams['xtick.labelsize'] = 36\n",
    "plt.rcParams['ytick.labelsize'] = 36"
   ]
  },
  {
   "cell_type": "markdown",
   "metadata": {},
   "source": [
    "### Import Data"
   ]
  },
  {
   "cell_type": "code",
   "execution_count": 4,
   "metadata": {},
   "outputs": [],
   "source": [
    "DATA_PATH = 'all-data/'\n",
    "\n",
    "race_split_df_all = pd.read_csv(DATA_PATH + 'census-datasets/combined-al-cc/ethnicity_split_all.csv')\n",
    "health_ins_split_df_all = pd.read_csv(DATA_PATH + 'census-datasets/combined-al-cc/health_ins_split_all.csv')\n",
    "income_split_df_all = pd.read_csv(DATA_PATH + 'census-datasets/combined-al-cc/income_split_all.csv')"
   ]
  },
  {
   "cell_type": "code",
   "execution_count": 5,
   "metadata": {},
   "outputs": [],
   "source": [
    "total_population_by_tract =\\\n",
    "        np.copy(health_ins_split_df_all[health_ins_split_df_all['Variable'] == 'No_Health_Ins_ACS_10_14']['Value']) +\\\n",
    "        np.copy(health_ins_split_df_all[health_ins_split_df_all['Variable'] == 'One_Plus_Health_Ins']['Value'])"
   ]
  },
  {
   "cell_type": "code",
   "execution_count": 6,
   "metadata": {},
   "outputs": [],
   "source": [
    "# Load Facilities data.\n",
    "al_fac_df = pd.read_csv(DATA_PATH + 'hospital-data/alameda-emergency-facilites.csv').iloc[:18, :].copy()\n",
    "cc_fac_df = pd.read_csv(DATA_PATH + 'hospital-data/cc-healthcare-dataset.csv')\n",
    "al_facilites_long_lats = np.array(al_fac_df[['LONGITUDE', 'LATITUDE']])\n",
    "cc_facilites_long_lats = np.array(cc_fac_df[['LONGITUDE', 'LATITUDE']])\n",
    "facilites_long_lats = np.vstack((al_facilites_long_lats, cc_facilites_long_lats))"
   ]
  },
  {
   "cell_type": "code",
   "execution_count": 7,
   "metadata": {},
   "outputs": [],
   "source": [
    "# Load tract-facility distance matrix, computed via the Google Maps API. \n",
    "# Distances refer to the driving distance between pairs of locations. \n",
    "gmaps_distance_matrix = pd.read_csv(DATA_PATH + 'all_travel_distance_matrix.csv')\n",
    "\n",
    "# Remove unnecessary first column.\n",
    "gmaps_distance_matrix = gmaps_distance_matrix.iloc[:, 1:].copy()\n",
    "\n",
    "# Convert to numpy array, and divide by 1000 to convert meters to kilometers. \n",
    "tract_facility_distance_matrix = np.array(gmaps_distance_matrix)[:, :] / 1000.0"
   ]
  },
  {
   "cell_type": "code",
   "execution_count": 8,
   "metadata": {},
   "outputs": [],
   "source": [
    "num_beds_arr = list(al_fac_df['TOTAL_NUMBER_BEDS']) + list(cc_fac_df['TOTAL_NUMBER_BEDS'])"
   ]
  },
  {
   "cell_type": "markdown",
   "metadata": {},
   "source": [
    "# Load Increase for Nearby Facilities\n",
    "\n",
    "We assume that every customer travels to the nearest open facility. Where do current Alta Bates customers go when it is closed? "
   ]
  },
  {
   "cell_type": "markdown",
   "metadata": {},
   "source": [
    "## Setup Functions"
   ]
  },
  {
   "cell_type": "code",
   "execution_count": 9,
   "metadata": {},
   "outputs": [],
   "source": [
    "def get_allocs(distances_matrix, facs_to_open_list):\n",
    "    '''\n",
    "    Returns the distances to the assigned facilities,\n",
    "    and a list of the facilities each tract is assigned to.\n",
    "    \n",
    "    distances_matrix: 2D array. Each entry is the pairwise distance between a census tract\n",
    "    and facility. \n",
    "    facs_to_open_list: List of integers. The facilities which will be open. \n",
    "    '''\n",
    "    distances = np.min(distances_matrix[:, facs_to_open_list], axis=1)\n",
    "    fac_assignments_relative_indices = np.argmin(distances_matrix[:, facs_to_open_list], axis=1)\n",
    "    fac_assignments_absolute_indices = [facs_to_open_list[i] for i in fac_assignments_relative_indices]\n",
    "    return distances, fac_assignments_absolute_indices"
   ]
  },
  {
   "cell_type": "code",
   "execution_count": 10,
   "metadata": {},
   "outputs": [],
   "source": [
    "def displacement(old_facs_to_open, new_facs_to_open): \n",
    "    '''\n",
    "    old_facs_to_open: List of integers. The old facilities which were open. \n",
    "    old_facs_to_open: List of integers. The new facilities to open.\n",
    "    '''\n",
    "    old_dist, old_fac_assignments = get_allocs(tract_facility_distance_matrix, \n",
    "                                     old_facs_to_open)\n",
    "    new_dist, new_fac_assignments = get_allocs(tract_facility_distance_matrix, \n",
    "                                     new_facs_to_open)\n",
    "    new_assignments_dict = {k: [] for k in old_fac_assignments}\n",
    "    tract_indices_dict = {k: [] for k in old_fac_assignments}\n",
    "    counter = 0\n",
    "    for old_fac, new_fac in zip(old_fac_assignments, new_fac_assignments): \n",
    "        new_assignments_dict[old_fac].append(new_fac)\n",
    "        tract_indices_dict[old_fac].append(counter)\n",
    "        counter += 1\n",
    "    return new_assignments_dict, tract_indices_dict"
   ]
  },
  {
   "cell_type": "code",
   "execution_count": 11,
   "metadata": {},
   "outputs": [],
   "source": [
    "def load_increase(new_assignment_list, displaced_tract_indices_list, \n",
    "                  num_facs, population_arr):\n",
    "    '''\n",
    "    Returns a dictionary of the load increase at each facility. \n",
    "    \n",
    "    new_assignment_list: List of integers. Facility ID that each displaced census tract is assigned to. \n",
    "    displaced_tract_indices_list: The indices of the census tracts which are displaced. These\n",
    "    are exactly the tracts which previous traveled to facility 16. \n",
    "    num_facs: Total number of facilities, including closed and open. Should be 26.\n",
    "    population_arr: 1D array or list of floats. The population at each census tract.\n",
    "    '''\n",
    "    fac_load_increase = {i: 0.0 for i in range(num_facs)}\n",
    "    for fac_num, tract_num in zip(new_assignment_list, displaced_tract_indices_list):\n",
    "        population = population_arr[int(tract_num)]\n",
    "        fac_load_increase[int(fac_num)] += population\n",
    "    return fac_load_increase"
   ]
  },
  {
   "cell_type": "code",
   "execution_count": 12,
   "metadata": {},
   "outputs": [],
   "source": [
    "def get_original_load_dict(new_assignment_dict, tract_indices_dict, \n",
    "                  num_facs, population_arr): \n",
    "    fac_load_original = {i: 0.0 for i in range(num_facs)}\n",
    "    for fac_source in new_assignment_dict.keys(): \n",
    "        if fac_source != 1: \n",
    "            new_assignment_list = new_assignment_dict[fac_source]\n",
    "            tract_indices_list = tract_indices_dict[fac_source]            \n",
    "            for fac_num, tract_num in zip(new_assignment_list, tract_indices_list):\n",
    "                population = population_arr[int(tract_num)]\n",
    "                fac_load_original[int(fac_num)] += population\n",
    "    return fac_load_original"
   ]
  },
  {
   "cell_type": "markdown",
   "metadata": {},
   "source": [
    "## Analysis"
   ]
  },
  {
   "cell_type": "markdown",
   "metadata": {},
   "source": [
    "### Number of Customers per Facility, Before/After"
   ]
  },
  {
   "cell_type": "code",
   "execution_count": 13,
   "metadata": {},
   "outputs": [],
   "source": [
    "cur_facs = [x for x in range(26) if x < 13 or x > 17]\n",
    "cur_facs_no_ab = [x for x in cur_facs if x != 1]"
   ]
  },
  {
   "cell_type": "code",
   "execution_count": 50,
   "metadata": {},
   "outputs": [],
   "source": [
    "distances, assignments = get_allocs(tract_facility_distance_matrix, cur_facs)"
   ]
  },
  {
   "cell_type": "code",
   "execution_count": 16,
   "metadata": {
    "scrolled": true
   },
   "outputs": [],
   "source": [
    "cur_ab_customer_indices = [i for i in range(tract_facility_distance_matrix.shape[0]) if assignments[i] == 1]"
   ]
  },
  {
   "cell_type": "code",
   "execution_count": 17,
   "metadata": {},
   "outputs": [
    {
     "data": {
      "text/plain": [
       "168853.0"
      ]
     },
     "execution_count": 17,
     "metadata": {},
     "output_type": "execute_result"
    }
   ],
   "source": [
    "sum(total_population_by_tract[cur_ab_customer_indices])"
   ]
  },
  {
   "cell_type": "code",
   "execution_count": 23,
   "metadata": {},
   "outputs": [],
   "source": [
    "alta_bates_new_assignments, tract_indices_dict = displacement(cur_facs, cur_facs_no_ab + [17])"
   ]
  },
  {
   "cell_type": "code",
   "execution_count": 28,
   "metadata": {},
   "outputs": [
    {
     "data": {
      "text/plain": [
       "{9: [9,\n",
       "  9,\n",
       "  9,\n",
       "  9,\n",
       "  9,\n",
       "  9,\n",
       "  9,\n",
       "  9,\n",
       "  9,\n",
       "  9,\n",
       "  9,\n",
       "  9,\n",
       "  9,\n",
       "  9,\n",
       "  9,\n",
       "  9,\n",
       "  9,\n",
       "  9,\n",
       "  9,\n",
       "  9,\n",
       "  9,\n",
       "  9,\n",
       "  9,\n",
       "  9,\n",
       "  9,\n",
       "  9],\n",
       " 6: [6,\n",
       "  6,\n",
       "  6,\n",
       "  6,\n",
       "  6,\n",
       "  6,\n",
       "  6,\n",
       "  6,\n",
       "  6,\n",
       "  6,\n",
       "  6,\n",
       "  6,\n",
       "  6,\n",
       "  6,\n",
       "  6,\n",
       "  6,\n",
       "  6,\n",
       "  6,\n",
       "  6,\n",
       "  6,\n",
       "  6,\n",
       "  6,\n",
       "  6,\n",
       "  6,\n",
       "  6,\n",
       "  6,\n",
       "  6,\n",
       "  6,\n",
       "  6,\n",
       "  6,\n",
       "  6],\n",
       " 5: [5,\n",
       "  5,\n",
       "  5,\n",
       "  5,\n",
       "  5,\n",
       "  5,\n",
       "  5,\n",
       "  5,\n",
       "  5,\n",
       "  5,\n",
       "  5,\n",
       "  5,\n",
       "  5,\n",
       "  5,\n",
       "  5,\n",
       "  5,\n",
       "  5,\n",
       "  5,\n",
       "  5,\n",
       "  5,\n",
       "  5,\n",
       "  5,\n",
       "  5,\n",
       "  5,\n",
       "  5,\n",
       "  5,\n",
       "  5,\n",
       "  5,\n",
       "  5,\n",
       "  5,\n",
       "  5,\n",
       "  5,\n",
       "  5,\n",
       "  5,\n",
       "  5,\n",
       "  5,\n",
       "  5],\n",
       " 8: [8,\n",
       "  8,\n",
       "  8,\n",
       "  8,\n",
       "  8,\n",
       "  8,\n",
       "  8,\n",
       "  8,\n",
       "  8,\n",
       "  8,\n",
       "  8,\n",
       "  8,\n",
       "  8,\n",
       "  8,\n",
       "  8,\n",
       "  8,\n",
       "  8,\n",
       "  8,\n",
       "  8,\n",
       "  8,\n",
       "  8,\n",
       "  8,\n",
       "  8,\n",
       "  8,\n",
       "  8,\n",
       "  8,\n",
       "  8,\n",
       "  8,\n",
       "  8,\n",
       "  8,\n",
       "  8,\n",
       "  8,\n",
       "  8,\n",
       "  8,\n",
       "  8,\n",
       "  8,\n",
       "  8,\n",
       "  8,\n",
       "  8,\n",
       "  8,\n",
       "  8],\n",
       " 10: [10,\n",
       "  10,\n",
       "  10,\n",
       "  10,\n",
       "  10,\n",
       "  10,\n",
       "  10,\n",
       "  10,\n",
       "  10,\n",
       "  10,\n",
       "  10,\n",
       "  10,\n",
       "  10,\n",
       "  10,\n",
       "  10,\n",
       "  10,\n",
       "  10,\n",
       "  10,\n",
       "  10,\n",
       "  10,\n",
       "  10,\n",
       "  10,\n",
       "  10,\n",
       "  10,\n",
       "  10,\n",
       "  10,\n",
       "  10,\n",
       "  10,\n",
       "  10],\n",
       " 7: [7,\n",
       "  7,\n",
       "  7,\n",
       "  7,\n",
       "  7,\n",
       "  7,\n",
       "  7,\n",
       "  7,\n",
       "  7,\n",
       "  7,\n",
       "  7,\n",
       "  7,\n",
       "  7,\n",
       "  7,\n",
       "  7,\n",
       "  7,\n",
       "  7,\n",
       "  7,\n",
       "  7,\n",
       "  7,\n",
       "  7,\n",
       "  7,\n",
       "  7,\n",
       "  7,\n",
       "  7,\n",
       "  7,\n",
       "  7,\n",
       "  7,\n",
       "  7],\n",
       " 12: [12, 12, 12, 12, 12, 12, 12, 12, 12, 12, 12],\n",
       " 24: [24,\n",
       "  24,\n",
       "  24,\n",
       "  24,\n",
       "  24,\n",
       "  24,\n",
       "  24,\n",
       "  24,\n",
       "  24,\n",
       "  24,\n",
       "  24,\n",
       "  24,\n",
       "  24,\n",
       "  24,\n",
       "  24,\n",
       "  24,\n",
       "  24,\n",
       "  24,\n",
       "  24,\n",
       "  24,\n",
       "  24,\n",
       "  24],\n",
       " 0: [0, 0, 0, 0, 0, 0, 0, 0, 0, 0, 0, 0, 0, 0, 0, 0, 0, 0, 0, 0],\n",
       " 3: [3,\n",
       "  3,\n",
       "  3,\n",
       "  3,\n",
       "  3,\n",
       "  3,\n",
       "  3,\n",
       "  3,\n",
       "  3,\n",
       "  3,\n",
       "  3,\n",
       "  3,\n",
       "  3,\n",
       "  3,\n",
       "  3,\n",
       "  3,\n",
       "  3,\n",
       "  3,\n",
       "  3,\n",
       "  3,\n",
       "  3,\n",
       "  3,\n",
       "  3,\n",
       "  3,\n",
       "  3,\n",
       "  3,\n",
       "  3,\n",
       "  3,\n",
       "  3,\n",
       "  3,\n",
       "  3,\n",
       "  3,\n",
       "  3,\n",
       "  3,\n",
       "  3,\n",
       "  3,\n",
       "  17,\n",
       "  3,\n",
       "  3,\n",
       "  3,\n",
       "  3,\n",
       "  3,\n",
       "  3,\n",
       "  3,\n",
       "  3,\n",
       "  3,\n",
       "  3],\n",
       " 4: [17,\n",
       "  17,\n",
       "  17,\n",
       "  17,\n",
       "  17,\n",
       "  17,\n",
       "  4,\n",
       "  17,\n",
       "  4,\n",
       "  17,\n",
       "  17,\n",
       "  17,\n",
       "  17,\n",
       "  17,\n",
       "  17,\n",
       "  17,\n",
       "  17,\n",
       "  17,\n",
       "  17,\n",
       "  17,\n",
       "  17,\n",
       "  4,\n",
       "  17],\n",
       " 2: [17, 17, 2, 2, 2, 2, 2, 2, 2, 2, 2, 2, 2],\n",
       " 11: [11, 11, 11, 11, 11, 11, 11, 11, 11],\n",
       " 1: [4,\n",
       "  4,\n",
       "  11,\n",
       "  2,\n",
       "  2,\n",
       "  2,\n",
       "  2,\n",
       "  2,\n",
       "  2,\n",
       "  2,\n",
       "  4,\n",
       "  2,\n",
       "  2,\n",
       "  2,\n",
       "  2,\n",
       "  2,\n",
       "  2,\n",
       "  2,\n",
       "  2,\n",
       "  2,\n",
       "  2,\n",
       "  2,\n",
       "  2,\n",
       "  2,\n",
       "  4,\n",
       "  2,\n",
       "  2,\n",
       "  2,\n",
       "  2,\n",
       "  2,\n",
       "  2,\n",
       "  2,\n",
       "  2,\n",
       "  21,\n",
       "  21,\n",
       "  2,\n",
       "  2,\n",
       "  2,\n",
       "  21,\n",
       "  2,\n",
       "  2,\n",
       "  20,\n",
       "  2,\n",
       "  2,\n",
       "  2,\n",
       "  2,\n",
       "  21,\n",
       "  2,\n",
       "  2],\n",
       " 21: [21,\n",
       "  21,\n",
       "  21,\n",
       "  21,\n",
       "  21,\n",
       "  21,\n",
       "  21,\n",
       "  21,\n",
       "  21,\n",
       "  21,\n",
       "  21,\n",
       "  21,\n",
       "  21,\n",
       "  21,\n",
       "  21,\n",
       "  21,\n",
       "  21,\n",
       "  21,\n",
       "  21,\n",
       "  21,\n",
       "  21,\n",
       "  21,\n",
       "  21,\n",
       "  21,\n",
       "  21,\n",
       "  21,\n",
       "  21,\n",
       "  21,\n",
       "  21,\n",
       "  21,\n",
       "  21,\n",
       "  21,\n",
       "  21,\n",
       "  21,\n",
       "  21,\n",
       "  21,\n",
       "  21,\n",
       "  21,\n",
       "  21,\n",
       "  21,\n",
       "  21,\n",
       "  21,\n",
       "  21,\n",
       "  21,\n",
       "  21,\n",
       "  21,\n",
       "  21,\n",
       "  21,\n",
       "  21,\n",
       "  21,\n",
       "  21],\n",
       " 20: [20,\n",
       "  20,\n",
       "  20,\n",
       "  20,\n",
       "  20,\n",
       "  20,\n",
       "  20,\n",
       "  20,\n",
       "  20,\n",
       "  20,\n",
       "  20,\n",
       "  20,\n",
       "  20,\n",
       "  20,\n",
       "  20,\n",
       "  20,\n",
       "  20,\n",
       "  20,\n",
       "  20],\n",
       " 25: [25,\n",
       "  25,\n",
       "  25,\n",
       "  25,\n",
       "  25,\n",
       "  25,\n",
       "  25,\n",
       "  25,\n",
       "  25,\n",
       "  25,\n",
       "  25,\n",
       "  25,\n",
       "  25,\n",
       "  25,\n",
       "  25,\n",
       "  25,\n",
       "  25,\n",
       "  25,\n",
       "  25,\n",
       "  25,\n",
       "  25,\n",
       "  25,\n",
       "  25],\n",
       " 23: [23,\n",
       "  23,\n",
       "  23,\n",
       "  23,\n",
       "  23,\n",
       "  23,\n",
       "  23,\n",
       "  23,\n",
       "  23,\n",
       "  23,\n",
       "  23,\n",
       "  23,\n",
       "  23,\n",
       "  23,\n",
       "  23,\n",
       "  23,\n",
       "  23,\n",
       "  23,\n",
       "  23,\n",
       "  23,\n",
       "  23,\n",
       "  23,\n",
       "  23,\n",
       "  23,\n",
       "  23,\n",
       "  23,\n",
       "  23,\n",
       "  23,\n",
       "  23,\n",
       "  23,\n",
       "  23,\n",
       "  23,\n",
       "  23],\n",
       " 19: [19, 19, 19, 19, 19, 19, 19, 19, 19, 19, 19, 19, 19, 19, 19, 19, 19],\n",
       " 22: [22, 22, 22, 22, 22, 22, 22, 22, 22, 22, 22, 22, 22, 22],\n",
       " 18: [18,\n",
       "  18,\n",
       "  18,\n",
       "  18,\n",
       "  18,\n",
       "  18,\n",
       "  18,\n",
       "  18,\n",
       "  18,\n",
       "  18,\n",
       "  18,\n",
       "  18,\n",
       "  18,\n",
       "  18,\n",
       "  18,\n",
       "  18,\n",
       "  18,\n",
       "  18,\n",
       "  18,\n",
       "  18,\n",
       "  18,\n",
       "  18,\n",
       "  18]}"
      ]
     },
     "execution_count": 28,
     "metadata": {},
     "output_type": "execute_result"
    }
   ],
   "source": [
    "alta_bates_new_assignments"
   ]
  },
  {
   "cell_type": "code",
   "execution_count": 29,
   "metadata": {
    "scrolled": true
   },
   "outputs": [
    {
     "data": {
      "text/plain": [
       "[4,\n",
       " 4,\n",
       " 11,\n",
       " 2,\n",
       " 2,\n",
       " 2,\n",
       " 2,\n",
       " 2,\n",
       " 2,\n",
       " 2,\n",
       " 4,\n",
       " 2,\n",
       " 2,\n",
       " 2,\n",
       " 2,\n",
       " 2,\n",
       " 2,\n",
       " 2,\n",
       " 2,\n",
       " 2,\n",
       " 2,\n",
       " 2,\n",
       " 2,\n",
       " 2,\n",
       " 4,\n",
       " 2,\n",
       " 2,\n",
       " 2,\n",
       " 2,\n",
       " 2,\n",
       " 2,\n",
       " 2,\n",
       " 2,\n",
       " 21,\n",
       " 21,\n",
       " 2,\n",
       " 2,\n",
       " 2,\n",
       " 21,\n",
       " 2,\n",
       " 2,\n",
       " 20,\n",
       " 2,\n",
       " 2,\n",
       " 2,\n",
       " 2,\n",
       " 21,\n",
       " 2,\n",
       " 2]"
      ]
     },
     "execution_count": 29,
     "metadata": {},
     "output_type": "execute_result"
    }
   ],
   "source": [
    "alta_bates_new_assignments[1]"
   ]
  },
  {
   "cell_type": "code",
   "execution_count": 32,
   "metadata": {},
   "outputs": [
    {
     "data": {
      "text/plain": [
       "[0, 2, 3, 4, 5, 6, 7, 8, 9, 10, 11, 12, 17, 18, 19, 20, 21, 22, 23, 24, 25]"
      ]
     },
     "execution_count": 32,
     "metadata": {},
     "output_type": "execute_result"
    }
   ],
   "source": [
    "sorted(cur_facs_no_ab + [17])"
   ]
  },
  {
   "cell_type": "code",
   "execution_count": 35,
   "metadata": {},
   "outputs": [],
   "source": [
    "fac_17_indices = np.where(np.argmin(tract_facility_distance_matrix[:, sorted(cur_facs_no_ab + [17])], axis=1) == 17)"
   ]
  },
  {
   "cell_type": "code",
   "execution_count": 36,
   "metadata": {},
   "outputs": [
    {
     "data": {
      "text/plain": [
       "[array([470, 494, 497, 515, 526, 535, 541, 549, 551, 553, 555, 556, 563,\n",
       "        566])]"
      ]
     },
     "execution_count": 36,
     "metadata": {},
     "output_type": "execute_result"
    }
   ],
   "source": [
    "list(fac_17_indices)"
   ]
  },
  {
   "cell_type": "code",
   "execution_count": 46,
   "metadata": {},
   "outputs": [],
   "source": [
    "cur_assignments_by_tract = np.argmin(tract_facility_distance_matrix[:, cur_facs], axis=1)"
   ]
  },
  {
   "cell_type": "code",
   "execution_count": 49,
   "metadata": {},
   "outputs": [
    {
     "ename": "ValueError",
     "evalue": "17 is not in list",
     "output_type": "error",
     "traceback": [
      "\u001b[0;31m---------------------------------------------------------------------------\u001b[0m",
      "\u001b[0;31mValueError\u001b[0m                                Traceback (most recent call last)",
      "\u001b[0;32m<ipython-input-49-eaf737ceb104>\u001b[0m in \u001b[0;36m<module>\u001b[0;34m\u001b[0m\n\u001b[0;32m----> 1\u001b[0;31m \u001b[0mnp\u001b[0m\u001b[0;34m.\u001b[0m\u001b[0mwhere\u001b[0m\u001b[0;34m(\u001b[0m\u001b[0mcur_assignments_by_tract\u001b[0m \u001b[0;34m==\u001b[0m \u001b[0mcur_facs\u001b[0m\u001b[0;34m.\u001b[0m\u001b[0mindex\u001b[0m\u001b[0;34m(\u001b[0m\u001b[0;36m17\u001b[0m\u001b[0;34m)\u001b[0m\u001b[0;34m)\u001b[0m\u001b[0;34m\u001b[0m\u001b[0;34m\u001b[0m\u001b[0m\n\u001b[0m",
      "\u001b[0;31mValueError\u001b[0m: 17 is not in list"
     ]
    }
   ],
   "source": [
    "np.where(cur_assignments_by_tract == cur_facs.index(17))"
   ]
  },
  {
   "cell_type": "code",
   "execution_count": 42,
   "metadata": {},
   "outputs": [
    {
     "data": {
      "text/plain": [
       "array([470, 494, 497, 515, 526, 535, 541, 549, 551, 553, 555, 556, 563,\n",
       "       566])"
      ]
     },
     "execution_count": 42,
     "metadata": {},
     "output_type": "execute_result"
    }
   ],
   "source": [
    "fac_17_indices[0]"
   ]
  },
  {
   "cell_type": "code",
   "execution_count": 44,
   "metadata": {},
   "outputs": [
    {
     "data": {
      "text/plain": [
       "[0, 1, 2, 3, 4, 5, 6, 7, 8, 9, 10, 11, 12, 18, 19, 20, 21, 22, 23, 24, 25]"
      ]
     },
     "execution_count": 44,
     "metadata": {},
     "output_type": "execute_result"
    }
   ],
   "source": [
    "cur_facs"
   ]
  },
  {
   "cell_type": "code",
   "execution_count": 45,
   "metadata": {},
   "outputs": [
    {
     "data": {
      "text/plain": [
       "array([ 9,  9,  9,  9,  9,  9,  6,  9,  9,  9,  9,  6,  9,  9,  9,  9,  9,\n",
       "        6,  9,  6,  9,  6,  9,  6,  9,  9,  6,  6,  9,  6,  9,  9,  6,  6,\n",
       "        9,  6,  6,  9,  9,  6,  6,  6,  6,  6,  6,  5,  6,  6,  6,  5,  6,\n",
       "        6,  6,  5,  6,  5,  6,  5,  6,  5,  6,  5,  5,  6,  5,  5,  5,  5,\n",
       "        6,  5,  5,  5,  5,  5,  5,  5,  5,  5,  5,  5,  5,  8,  5,  5,  5,\n",
       "        5,  5,  5,  8, 10,  5,  8,  5, 10,  5,  8,  5,  8,  5,  5,  8, 10,\n",
       "       10,  8,  8,  8,  5,  7,  8,  8,  8, 10, 10,  8,  8,  7,  8,  8, 10,\n",
       "       10, 10, 10,  8, 10, 10,  8, 10,  8, 12, 12,  8,  8, 12, 10, 10, 10,\n",
       "        8, 10,  8,  8,  8, 10, 10,  8,  8,  8,  8, 10, 12,  7, 10, 10, 12,\n",
       "        7, 10, 10,  8,  8, 10,  8, 12,  7,  8,  8,  8,  8,  7,  7,  8, 12,\n",
       "       10,  8, 10,  7, 10, 19,  7, 12,  7, 19,  7, 12,  7, 12,  7,  0,  8,\n",
       "        7,  7,  7,  8,  0,  7,  7,  7,  7,  7,  7,  7,  0, 12,  0,  7,  0,\n",
       "        0,  0,  7,  7,  7,  0,  7,  0,  3,  0,  0, 10,  0,  3,  3,  0,  0,\n",
       "        3,  0,  0,  3,  3,  3,  0,  0,  0,  3,  3,  0,  3,  3,  3,  3,  7,\n",
       "        3,  3,  3,  3,  3,  3,  3,  3,  3,  3,  3,  4,  4,  4,  3,  3,  3,\n",
       "        3,  3,  3,  3,  4,  3,  3,  4,  4,  3,  3,  4,  3,  3,  3,  3,  4,\n",
       "        2,  4,  4,  4,  2,  4,  4,  4,  3,  4,  3,  3,  4, 11,  4, 11,  4,\n",
       "        4,  4,  3,  4,  3,  4,  4, 11, 11, 11,  3, 11,  2, 11,  2,  2,  3,\n",
       "       11,  1,  2,  1,  2,  2,  2,  2, 11,  2,  1,  1,  1,  2,  1,  2,  1,\n",
       "        1,  1,  1,  1,  1,  1,  1,  1,  1,  1,  1,  1,  1,  1,  1,  1,  1,\n",
       "        1,  1,  1,  1,  1,  1,  1,  1,  1, 16,  1,  1,  1, 16,  1,  1, 16,\n",
       "        1,  1,  1, 19, 19, 19, 19, 19, 19, 19, 19, 19, 19, 19, 19, 19, 19,\n",
       "       19, 19, 19, 19, 15, 19, 19,  3, 15,  8, 15, 15, 15,  1,  1, 20, 15,\n",
       "       15, 15, 15, 15,  1, 15, 15, 20,  1, 15, 15, 18, 15, 15, 15, 20, 16,\n",
       "       16, 20,  1, 16, 15, 14,  1, 14, 14,  1, 16, 16,  1, 14, 20, 16, 16,\n",
       "       16, 14, 14, 14, 16, 14, 16, 14, 16, 16, 20, 16, 14, 20, 15, 16, 16,\n",
       "       20, 14, 20, 14, 18, 14, 16, 16, 14, 16, 16, 16, 14, 20, 20, 16, 20,\n",
       "       16, 16, 20, 16, 16, 14, 18, 18, 18, 18, 18, 17, 16, 14, 16, 18, 20,\n",
       "       16, 16, 18, 18, 18, 16, 18, 18, 18, 18, 16, 18, 20, 16, 16, 18, 16,\n",
       "       18, 17, 16, 20, 17, 18, 16, 18, 13, 20, 16, 13, 18, 18, 16, 16, 16,\n",
       "       20, 20, 18, 13, 13, 17, 13, 18, 18, 20, 13, 16, 13, 18, 16, 18, 17,\n",
       "       20, 16, 13, 16, 18, 13, 13, 18, 17, 13, 13, 13, 16, 13, 17, 13, 20,\n",
       "       16, 13, 13, 13, 13, 17, 16, 17, 13, 17, 18, 17, 17, 16, 13, 13, 18,\n",
       "       20, 13, 17, 18, 18, 17])"
      ]
     },
     "execution_count": 45,
     "metadata": {},
     "output_type": "execute_result"
    }
   ],
   "source": [
    "cur_assignments_by_tract"
   ]
  },
  {
   "cell_type": "code",
   "execution_count": 38,
   "metadata": {
    "scrolled": true
   },
   "outputs": [
    {
     "data": {
      "text/plain": [
       "[307,\n",
       " 309,\n",
       " 316,\n",
       " 317,\n",
       " 318,\n",
       " 320,\n",
       " 322,\n",
       " 323,\n",
       " 324,\n",
       " 325,\n",
       " 326,\n",
       " 327,\n",
       " 328,\n",
       " 329,\n",
       " 330,\n",
       " 331,\n",
       " 332,\n",
       " 333,\n",
       " 334,\n",
       " 335,\n",
       " 336,\n",
       " 337,\n",
       " 338,\n",
       " 339,\n",
       " 340,\n",
       " 341,\n",
       " 342,\n",
       " 343,\n",
       " 344,\n",
       " 345,\n",
       " 346,\n",
       " 347,\n",
       " 348,\n",
       " 350,\n",
       " 351,\n",
       " 352,\n",
       " 354,\n",
       " 355,\n",
       " 357,\n",
       " 358,\n",
       " 359,\n",
       " 387,\n",
       " 388,\n",
       " 395,\n",
       " 399,\n",
       " 410,\n",
       " 414,\n",
       " 417,\n",
       " 420]"
      ]
     },
     "execution_count": 38,
     "metadata": {},
     "output_type": "execute_result"
    }
   ],
   "source": [
    "sorted(cur_ab_customer_indices)"
   ]
  },
  {
   "cell_type": "code",
   "execution_count": null,
   "metadata": {},
   "outputs": [],
   "source": [
    "load_increase(alta_bates_new_assignments[1])"
   ]
  },
  {
   "cell_type": "code",
   "execution_count": null,
   "metadata": {},
   "outputs": [],
   "source": []
  },
  {
   "cell_type": "code",
   "execution_count": 25,
   "metadata": {},
   "outputs": [],
   "source": [
    "original_load_dict = get_original_load_dict(alta_bates_new_assignments, tract_indices_dict, len(num_beds_arr),\n",
    "                                total_population_by_tract)"
   ]
  },
  {
   "cell_type": "code",
   "execution_count": 26,
   "metadata": {},
   "outputs": [],
   "source": [
    "load_increase_dict = load_increase(alta_bates_new_assignments[1], \n",
    "                                   tract_indices_dict[1], len(num_beds_arr),\n",
    "                                    total_population_by_tract)"
   ]
  },
  {
   "cell_type": "code",
   "execution_count": 27,
   "metadata": {},
   "outputs": [
    {
     "data": {
      "text/plain": [
       "{0: 0.0,\n",
       " 1: 0.0,\n",
       " 2: 140393.0,\n",
       " 3: 0.0,\n",
       " 4: 8363.0,\n",
       " 5: 0.0,\n",
       " 6: 0.0,\n",
       " 7: 0.0,\n",
       " 8: 0.0,\n",
       " 9: 0.0,\n",
       " 10: 0.0,\n",
       " 11: 5156.0,\n",
       " 12: 0.0,\n",
       " 13: 0.0,\n",
       " 14: 0.0,\n",
       " 15: 0.0,\n",
       " 16: 0.0,\n",
       " 17: 0.0,\n",
       " 18: 0.0,\n",
       " 19: 0.0,\n",
       " 20: 5798.000000000001,\n",
       " 21: 9143.0,\n",
       " 22: 0.0,\n",
       " 23: 0.0,\n",
       " 24: 0.0,\n",
       " 25: 0.0}"
      ]
     },
     "execution_count": 27,
     "metadata": {},
     "output_type": "execute_result"
    }
   ],
   "source": [
    "load_increase_dict"
   ]
  },
  {
   "cell_type": "code",
   "execution_count": null,
   "metadata": {},
   "outputs": [],
   "source": []
  },
  {
   "cell_type": "code",
   "execution_count": null,
   "metadata": {},
   "outputs": [],
   "source": []
  },
  {
   "cell_type": "code",
   "execution_count": null,
   "metadata": {},
   "outputs": [],
   "source": []
  },
  {
   "cell_type": "code",
   "execution_count": 38,
   "metadata": {},
   "outputs": [
    {
     "data": {
      "text/plain": [
       "168853.0"
      ]
     },
     "execution_count": 38,
     "metadata": {},
     "output_type": "execute_result"
    }
   ],
   "source": [
    "sum([load_increase_dict[i] for i in range(26)])"
   ]
  },
  {
   "cell_type": "code",
   "execution_count": 27,
   "metadata": {},
   "outputs": [],
   "source": [
    "num_alta_bates_customers = sum(load_increase_dict.values())"
   ]
  },
  {
   "cell_type": "code",
   "execution_count": 28,
   "metadata": {},
   "outputs": [
    {
     "data": {
      "text/plain": [
       "168853.0"
      ]
     },
     "execution_count": 28,
     "metadata": {},
     "output_type": "execute_result"
    }
   ],
   "source": [
    "num_alta_bates_customers"
   ]
  },
  {
   "cell_type": "code",
   "execution_count": 39,
   "metadata": {},
   "outputs": [],
   "source": [
    "NUM_FACILITIES = 26"
   ]
  },
  {
   "cell_type": "code",
   "execution_count": 40,
   "metadata": {},
   "outputs": [],
   "source": [
    "new_loads = [load_increase_dict[x] + original_load_dict[x] for x in range(NUM_FACILITIES)]\n",
    "orig_loads = [original_load_dict[x] for x in range(NUM_FACILITIES)]"
   ]
  },
  {
   "cell_type": "code",
   "execution_count": 44,
   "metadata": {},
   "outputs": [
    {
     "data": {
      "image/png": "[encoded data removed]",
      "text/plain": [
       "<Figure size 1440x864 with 1 Axes>"
      ]
     },
     "metadata": {},
     "output_type": "display_data"
    }
   ],
   "source": [
    "plt.bar(np.arange(NUM_FACILITIES), orig_loads,\n",
    "        width=0.4, ec='k', label='Original Load (With AB Open)', color='b');\n",
    "plt.bar([1], num_alta_bates_customers, width=0.4, ec='k', color='b');\n",
    "plt.bar(np.arange(NUM_FACILITIES) + 0.4, new_loads, \n",
    "        width=0.4, ec='k', label='New Load (After AB Closed)', color='r');\n",
    "plt.xticks(np.arange(NUM_FACILITIES) + 0.2, np.arange(NUM_FACILITIES))\n",
    "plt.xlabel('Facility ID')\n",
    "plt.ylabel('Number of Assigned Customers')\n",
    "plt.legend()\n",
    "plt.savefig('visualizations/alta-bates/load_increase_ab_closure_total_population.png');"
   ]
  },
  {
   "cell_type": "code",
   "execution_count": 43,
   "metadata": {},
   "outputs": [
    {
     "data": {
      "text/plain": [
       "2640540.0"
      ]
     },
     "execution_count": 43,
     "metadata": {},
     "output_type": "execute_result"
    }
   ],
   "source": [
    "sum(total_population_by_tract)"
   ]
  },
  {
   "cell_type": "markdown",
   "metadata": {},
   "source": [
    "### Person-to-Bed Ratios, Before/After"
   ]
  },
  {
   "cell_type": "code",
   "execution_count": 48,
   "metadata": {},
   "outputs": [],
   "source": [
    "global_num_beds_with_ab = sum([num_beds_arr[i] for i in cur_facs])\n",
    "global_num_beds_no_ab = global_num_beds_with_ab - num_beds_arr[1]"
   ]
  },
  {
   "cell_type": "code",
   "execution_count": 49,
   "metadata": {},
   "outputs": [
    {
     "data": {
      "text/plain": [
       "4575.0"
      ]
     },
     "execution_count": 49,
     "metadata": {},
     "output_type": "execute_result"
    }
   ],
   "source": [
    "global_num_beds_with_ab"
   ]
  },
  {
   "cell_type": "code",
   "execution_count": 50,
   "metadata": {},
   "outputs": [
    {
     "data": {
      "text/plain": [
       "4228.0"
      ]
     },
     "execution_count": 50,
     "metadata": {},
     "output_type": "execute_result"
    }
   ],
   "source": [
    "global_num_beds_no_ab"
   ]
  },
  {
   "cell_type": "code",
   "execution_count": 51,
   "metadata": {},
   "outputs": [],
   "source": [
    "global_person_bed_ratio_with_ab = sum(total_population_by_tract) / global_num_beds_with_ab\n",
    "global_person_bed_ratio_no_ab = sum(total_population_by_tract) / global_num_beds_no_ab"
   ]
  },
  {
   "cell_type": "code",
   "execution_count": 52,
   "metadata": {},
   "outputs": [
    {
     "data": {
      "text/plain": [
       "624.5364238410596"
      ]
     },
     "execution_count": 52,
     "metadata": {},
     "output_type": "execute_result"
    }
   ],
   "source": [
    "global_person_bed_ratio_no_ab"
   ]
  },
  {
   "cell_type": "code",
   "execution_count": 53,
   "metadata": {},
   "outputs": [
    {
     "data": {
      "text/plain": [
       "577.1672131147541"
      ]
     },
     "execution_count": 53,
     "metadata": {},
     "output_type": "execute_result"
    }
   ],
   "source": [
    "global_person_bed_ratio_with_ab"
   ]
  },
  {
   "cell_type": "code",
   "execution_count": 58,
   "metadata": {},
   "outputs": [
    {
     "data": {
      "image/png": "[encoded data removed]",
      "text/plain": [
       "<Figure size 1440x864 with 1 Axes>"
      ]
     },
     "metadata": {},
     "output_type": "display_data"
    }
   ],
   "source": [
    "plt.bar(np.arange(NUM_FACILITIES), np.divide(np.array(orig_loads), num_beds_arr),\n",
    "        width=0.4, ec='k', label='Original Person-Bed Ratio', color='b');\n",
    "plt.bar([1], num_alta_bates_customers / num_beds_arr[1], width=0.4, ec='k', color='b');\n",
    "plt.bar(np.arange(NUM_FACILITIES) + 0.4, np.divide(np.array(new_loads), num_beds_arr),\n",
    "        width=0.4, ec='k', label='New Person-Bed Ratio', color='r');\n",
    "plt.plot([-0.5, NUM_FACILITIES - 0.5], [global_person_bed_ratio_with_ab, global_person_bed_ratio_with_ab], \n",
    "         label='Original Global Person-Bed Ratio (With AB)')\n",
    "plt.plot([-0.5, NUM_FACILITIES - 0.5], [global_person_bed_ratio_no_ab, global_person_bed_ratio_no_ab], \n",
    "         label='New Global Person-Bed Ratio (Without AB)')\n",
    "plt.xlabel('Facility ID')\n",
    "plt.ylabel('Number of Assigned Customers')\n",
    "plt.xticks(np.arange(NUM_FACILITIES) + 0.2, np.arange(NUM_FACILITIES))\n",
    "# plt.yscale('log')\n",
    "plt.legend()\n",
    "plt.savefig('visualizations/alta-bates/person_bed_ratios_alta_bates_closure.png');"
   ]
  },
  {
   "cell_type": "markdown",
   "metadata": {},
   "source": [
    "### Distance Increases for AB Customers"
   ]
  },
  {
   "cell_type": "code",
   "execution_count": 61,
   "metadata": {},
   "outputs": [],
   "source": [
    "old_dist_no_ab, old_fac_assignments_no_ab = get_allocs(tract_facility_distance_matrix, \n",
    "                                     cur_facs_no_ab)"
   ]
  },
  {
   "cell_type": "code",
   "execution_count": 62,
   "metadata": {},
   "outputs": [],
   "source": [
    "old_dist, old_fac_assignments = get_allocs(tract_facility_distance_matrix, \n",
    "                                     cur_facs)"
   ]
  },
  {
   "cell_type": "code",
   "execution_count": 63,
   "metadata": {},
   "outputs": [],
   "source": [
    "alta_bates_dist_increases_by_tract = (old_dist_no_ab - old_dist)[cur_ab_customer_indices]"
   ]
  },
  {
   "cell_type": "code",
   "execution_count": 68,
   "metadata": {},
   "outputs": [],
   "source": [
    "alta_bates_pop_by_tract = total_population_by_tract[cur_ab_customer_indices]"
   ]
  },
  {
   "cell_type": "code",
   "execution_count": 69,
   "metadata": {},
   "outputs": [],
   "source": [
    "pop_ints = [int(x) for x in alta_bates_pop_by_tract]"
   ]
  },
  {
   "cell_type": "code",
   "execution_count": 70,
   "metadata": {},
   "outputs": [],
   "source": [
    "alta_bates_dist_increases_counts = np.repeat(alta_bates_dist_increases_by_tract, pop_ints)"
   ]
  },
  {
   "cell_type": "code",
   "execution_count": 74,
   "metadata": {},
   "outputs": [
    {
     "data": {
      "image/png": "[encoded data removed]",
      "text/plain": [
       "<Figure size 1440x864 with 1 Axes>"
      ]
     },
     "metadata": {},
     "output_type": "display_data"
    }
   ],
   "source": [
    "plt.hist(alta_bates_dist_increases_counts, bins=50, ec='k');\n",
    "plt.xlabel('Distance Increase for Alta Bates Customer (km)')\n",
    "plt.ylabel('Count by Individuals')\n",
    "plt.savefig('visualizations/alta-bates/distance_increase_histogram_ab_customers.png');"
   ]
  }
 ],
 "metadata": {
  "kernelspec": {
   "display_name": "Python 3",
   "language": "python",
   "name": "python3"
  },
  "language_info": {
   "codemirror_mode": {
    "name": "ipython",
    "version": 3
   },
   "file_extension": ".py",
   "mimetype": "text/x-python",
   "name": "python",
   "nbconvert_exporter": "python",
   "pygments_lexer": "ipython3",
   "version": "3.7.3"
  }
 },
 "nbformat": 4,
 "nbformat_minor": 2
}
